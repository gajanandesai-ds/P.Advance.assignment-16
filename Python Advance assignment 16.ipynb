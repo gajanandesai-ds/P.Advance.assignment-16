{
 "cells": [
  {
   "cell_type": "raw",
   "id": "6d4fa027",
   "metadata": {},
   "source": [
    "Q1. What is the benefit of regular expressions?"
   ]
  },
  {
   "cell_type": "raw",
   "id": "d8f5834e",
   "metadata": {},
   "source": [
    "ans: A regular expression is a special sequeneof charcters that helps to match or find other strings or sets of string using a specialized syntax held in a pattern. Regular expressions are widley used in UNIX world.The python module re provides full suppoert for support for perl-like regualr expresions in python. The re module raises the exception re.error if an error occurs while complilling or using a regular expression."
   ]
  },
  {
   "cell_type": "code",
   "execution_count": null,
   "id": "a63a9af3",
   "metadata": {},
   "outputs": [],
   "source": []
  },
  {
   "cell_type": "code",
   "execution_count": null,
   "id": "638e2be9",
   "metadata": {},
   "outputs": [],
   "source": []
  },
  {
   "cell_type": "raw",
   "id": "7173c4fc",
   "metadata": {},
   "source": [
    "Q2. Describe the difference between the effects of \"(ab)c+\" and \"a(bc)+.\" Which of these, if any, is the\n",
    "unqualified pattern \"abc+\"?"
   ]
  },
  {
   "cell_type": "raw",
   "id": "af98bb1f",
   "metadata": {},
   "source": [
    "ans: The result of both of them will be basically computed using the BOADMAS rule according to mathematics so result will be differnt in both  case. taking in terms of regular expression it causes the resulting RE to match 1 or more repetitions of the preceding RE.(abc)+ will match 'ab' foolowed by any non Zero number of 'c''s', it will  not match just 'ab' similar for a(bc)+ it will match 'a' followed by  any non-zero number of 'bc's: it will not match just 'a'."
   ]
  },
  {
   "cell_type": "code",
   "execution_count": null,
   "id": "e072ba2f",
   "metadata": {},
   "outputs": [],
   "source": []
  },
  {
   "cell_type": "code",
   "execution_count": null,
   "id": "f4d88540",
   "metadata": {},
   "outputs": [],
   "source": []
  },
  {
   "cell_type": "raw",
   "id": "d21893dc",
   "metadata": {},
   "source": [
    "Q3. How much do you need to use the following sentence while using regular expressions?\n",
    "\n",
    "import re"
   ]
  },
  {
   "cell_type": "raw",
   "id": "26d6d917",
   "metadata": {},
   "source": [
    "ans: it's a basic import statement to use regular expression in python."
   ]
  },
  {
   "cell_type": "code",
   "execution_count": null,
   "id": "a02afbca",
   "metadata": {},
   "outputs": [],
   "source": []
  },
  {
   "cell_type": "code",
   "execution_count": null,
   "id": "de79c7c8",
   "metadata": {},
   "outputs": [],
   "source": []
  },
  {
   "cell_type": "raw",
   "id": "df868c05",
   "metadata": {},
   "source": [
    "Q4. Which characters have special significance in square brackets when expressing a range, and\n",
    "under what circumstances?"
   ]
  },
  {
   "cell_type": "raw",
   "id": "5f80cfd8",
   "metadata": {},
   "source": [
    "ans: Square brackets([]) designate a charcter class and match a single charcter in the string. inside a charcter class, only the charcter class metacharcters(blackslash,circumflex anchor and hyphen) have special meaning.\n",
    "\n",
    "\n",
    "\n",
    "we must use a backslash when we use charcter class mtacharcters as literals inside a charcter class only.Square brackets that are used as literls must always be escaped with backslash, both inside and outside a charcter class."
   ]
  },
  {
   "cell_type": "code",
   "execution_count": null,
   "id": "a778e639",
   "metadata": {},
   "outputs": [],
   "source": []
  },
  {
   "cell_type": "code",
   "execution_count": null,
   "id": "a6595adc",
   "metadata": {},
   "outputs": [],
   "source": []
  },
  {
   "cell_type": "raw",
   "id": "e51caad0",
   "metadata": {},
   "source": [
    "Q5. How does compiling a regular-expression object benefit you?"
   ]
  },
  {
   "cell_type": "raw",
   "id": "115afd88",
   "metadata": {},
   "source": [
    "ans: we can combine a regular expression pattern into patern objects, which can be used for pattern matching it also helps to search a pattern again without rewriting. it."
   ]
  },
  {
   "cell_type": "code",
   "execution_count": null,
   "id": "a79bfd87",
   "metadata": {},
   "outputs": [],
   "source": []
  },
  {
   "cell_type": "code",
   "execution_count": null,
   "id": "386aa5f2",
   "metadata": {},
   "outputs": [],
   "source": []
  },
  {
   "cell_type": "raw",
   "id": "e2934e6b",
   "metadata": {},
   "source": [
    "Q6. What are some examples of how to use the match object returned by re.match and re.search?"
   ]
  },
  {
   "cell_type": "code",
   "execution_count": 7,
   "id": "eefd94db",
   "metadata": {},
   "outputs": [
    {
     "name": "stdout",
     "output_type": "stream",
     "text": [
      "<re.Match object; span=(46, 52), match='string'>\n",
      "None\n",
      "<re.Match object; span=(48, 54), match='string'>\n",
      "None\n"
     ]
    }
   ],
   "source": [
    "import re\n",
    "substring = 'string'\n",
    "string1 = \"we are learing regex. this is very useful for string. it is fast to\"\n",
    "string2 = \" we are learning regex. This is very useful for string. it is fast to\"\n",
    "\n",
    "\n",
    "print(re.search(substring,string1, re.IGNORECASE))\n",
    "\n",
    "print(re.match(substring, string1, re.IGNORECASE))\n",
    "\n",
    "print(re.search(substring,string2, re. IGNORECASE))\n",
    "\n",
    "print(re.match(substring, string2, re.IGNORECASE))"
   ]
  },
  {
   "cell_type": "code",
   "execution_count": null,
   "id": "54082b46",
   "metadata": {},
   "outputs": [],
   "source": []
  },
  {
   "cell_type": "code",
   "execution_count": null,
   "id": "cba17216",
   "metadata": {},
   "outputs": [],
   "source": []
  },
  {
   "cell_type": "raw",
   "id": "3ea52639",
   "metadata": {},
   "source": [
    "Q7. What is the difference between using a vertical bar (|) as an alteration and using square brackets\n",
    "as a character set?"
   ]
  },
  {
   "cell_type": "raw",
   "id": "c8b434c3",
   "metadata": {},
   "source": [
    "ans: The vertical bar is a regex \"or\" means \"a or b\"\n",
    "\n",
    "square brackets are a charcter class meaning\" any charcter from a or b.\n",
    "\n",
    "charcter class is a shorthsnd for \"or\".from this explanation\n",
    "\n",
    "if we want yo match an a or an e use[ae]\n",
    "\n",
    "A charcter class matches onlya single charcter.\n",
    "\n",
    "we can also use hyphen to specify a range such as[0-9] or [a-e]"
   ]
  },
  {
   "cell_type": "code",
   "execution_count": null,
   "id": "900c9027",
   "metadata": {},
   "outputs": [],
   "source": []
  },
  {
   "cell_type": "code",
   "execution_count": null,
   "id": "4244a122",
   "metadata": {},
   "outputs": [],
   "source": []
  },
  {
   "cell_type": "raw",
   "id": "1d354586",
   "metadata": {},
   "source": [
    "Q8. In regular-expression search patterns, why is it necessary to use the raw-string indicator (r)? In  \n",
    "replacement strings?"
   ]
  },
  {
   "cell_type": "raw",
   "id": "96bb28e2",
   "metadata": {},
   "source": [
    "ans : Regular expression use the backslash use thr backslash charcter(\"\") to indicate special forms or to allow special charcters to be used without invoking their special meaning. this coollieds wit pythons usage of the same charcter for the same purpose in string literls.\n",
    "\n",
    "if we want a python regular expression object which matches a newline charcter, then we need a -2 charcter string consissting of the backslash charcter followed by the n charcter. the following lines of code all set prog to a regular expression object whch recognises a newline charter:\n",
    "\n",
    "\n",
    "prog = re.compile(\"\\n\")\n",
    "prog = "
   ]
  },
  {
   "cell_type": "code",
   "execution_count": null,
   "id": "dedddfff",
   "metadata": {},
   "outputs": [],
   "source": []
  },
  {
   "cell_type": "code",
   "execution_count": null,
   "id": "474faa7e",
   "metadata": {},
   "outputs": [],
   "source": []
  },
  {
   "cell_type": "code",
   "execution_count": null,
   "id": "9aded9f2",
   "metadata": {},
   "outputs": [],
   "source": []
  }
 ],
 "metadata": {
  "kernelspec": {
   "display_name": "Python 3",
   "language": "python",
   "name": "python3"
  },
  "language_info": {
   "codemirror_mode": {
    "name": "ipython",
    "version": 3
   },
   "file_extension": ".py",
   "mimetype": "text/x-python",
   "name": "python",
   "nbconvert_exporter": "python",
   "pygments_lexer": "ipython3",
   "version": "3.8.8"
  }
 },
 "nbformat": 4,
 "nbformat_minor": 5
}
